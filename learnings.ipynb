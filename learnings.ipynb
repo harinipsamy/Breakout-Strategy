{
 "cells": [
  {
   "cell_type": "code",
   "execution_count": 3,
   "metadata": {},
   "outputs": [
    {
     "ename": "ModuleNotFoundError",
     "evalue": "No module named 'matplotlib'",
     "output_type": "error",
     "traceback": [
      "\u001b[0;31m---------------------------------------------------------------------------\u001b[0m",
      "\u001b[0;31mModuleNotFoundError\u001b[0m                       Traceback (most recent call last)",
      "\u001b[0;32m<ipython-input-3-b478a6fd18e5>\u001b[0m in \u001b[0;36m<module>\u001b[0;34m\u001b[0m\n\u001b[1;32m      1\u001b[0m \u001b[0;32mimport\u001b[0m \u001b[0mpandas\u001b[0m \u001b[0;32mas\u001b[0m \u001b[0mpd\u001b[0m\u001b[0;34m\u001b[0m\u001b[0;34m\u001b[0m\u001b[0m\n\u001b[1;32m      2\u001b[0m \u001b[0;32mimport\u001b[0m \u001b[0mnumpy\u001b[0m \u001b[0;32mas\u001b[0m \u001b[0mnp\u001b[0m\u001b[0;34m\u001b[0m\u001b[0;34m\u001b[0m\u001b[0m\n\u001b[0;32m----> 3\u001b[0;31m \u001b[0;32mimport\u001b[0m \u001b[0mmatplotlib\u001b[0m\u001b[0;34m.\u001b[0m\u001b[0mpyplot\u001b[0m \u001b[0;32mas\u001b[0m \u001b[0mplt\u001b[0m\u001b[0;34m\u001b[0m\u001b[0;34m\u001b[0m\u001b[0m\n\u001b[0m",
      "\u001b[0;31mModuleNotFoundError\u001b[0m: No module named 'matplotlib'"
     ]
    }
   ],
   "source": [
    "import pandas as pd\n",
    "import numpy as np\n",
    "import matplotlib.pyplot as plt"
   ]
  },
  {
   "cell_type": "code",
   "execution_count": null,
   "metadata": {},
   "outputs": [],
   "source": [
    "def plot_histogram(sample, title, bins=16, **kwargs):\n",
    "    \"\"\"Plot the histogram of a given sample of random values.\n",
    "\n",
    "    Parameters\n",
    "    ----------\n",
    "    sample : pandas.Series\n",
    "        raw values to build histogram\n",
    "    title : str\n",
    "        plot title/header\n",
    "    bins : int\n",
    "        number of bins in the histogram\n",
    "    kwargs : dict \n",
    "        any other keyword arguments for plotting (optional)\n",
    "    \"\"\"\n",
    "    # TODO: Plot histogram\n",
    "    plt.hist(sample)\n",
    "\n",
    "    # TODO: show the plot\n",
    "    plt.show()\n",
    "    \n",
    "    return\n",
    "\n",
    "\n",
    "def test_run():\n",
    "    \"\"\"Test run plot_histogram() with different samples.\"\"\"\n",
    "    # Load and plot histograms of each sample\n",
    "    # Note: Try plotting them one by one if it's taking too long\n",
    "    A = pd.read_csv(\"A.csv\", header=None, squeeze=True)\n",
    "    plot_histogram(A, title=\"Sample A\")\n",
    "    \n",
    "    B = pd.read_csv(\"B.csv\", header=None, squeeze=True)\n",
    "    plot_histogram(B, title=\"Sample B\")\n",
    "    \n",
    "    C = pd.read_csv(\"C.csv\", header=None, squeeze=True)\n",
    "    plot_histogram(C, title=\"Sample C\")\n",
    "    \n",
    "    D = pd.read_csv(\"D.csv\", header=None, squeeze=True)\n",
    "    plot_histogram(D, title=\"Sample D\")\n",
    "\n",
    "\n",
    "if __name__ == '__main__':\n",
    "    test_run()"
   ]
  },
  {
   "cell_type": "code",
   "execution_count": 1,
   "metadata": {},
   "outputs": [],
   "source": [
    "boxplot\n",
    "quantiles - value in a probility group\n",
    "quartiles - 3 dividing lines\n"
   ]
  },
  {
   "cell_type": "code",
   "execution_count": null,
   "metadata": {},
   "outputs": [],
   "source": []
  }
 ],
 "metadata": {
  "kernelspec": {
   "display_name": "breakout",
   "language": "python",
   "name": "breakout"
  },
  "language_info": {
   "codemirror_mode": {
    "name": "ipython",
    "version": 3
   },
   "file_extension": ".py",
   "mimetype": "text/x-python",
   "name": "python",
   "nbconvert_exporter": "python",
   "pygments_lexer": "ipython3",
   "version": "3.8.2"
  }
 },
 "nbformat": 4,
 "nbformat_minor": 2
}
